{
  "nbformat": 4,
  "nbformat_minor": 0,
  "metadata": {
    "colab": {
      "provenance": []
    },
    "kernelspec": {
      "name": "python3",
      "display_name": "Python 3"
    },
    "language_info": {
      "name": "python"
    }
  },
  "cells": [
    {
      "cell_type": "code",
      "execution_count": 3,
      "metadata": {
        "colab": {
          "base_uri": "https://localhost:8080/"
        },
        "id": "g0p3kcTyuVk_",
        "outputId": "57645c43-33d9-4229-ab97-21343c5c6233"
      },
      "outputs": [
        {
          "output_type": "execute_result",
          "data": {
            "text/plain": [
              "array([[0.        ],\n",
              "       [0.28571429],\n",
              "       [0.35714286],\n",
              "       [0.42857143],\n",
              "       [1.        ]])"
            ]
          },
          "metadata": {},
          "execution_count": 3
        }
      ],
      "source": [
        "import numpy as np\n",
        "from sklearn import preprocessing\n",
        "feature = np.array([\n",
        "    [-500.5],\n",
        "    [-100.1],\n",
        "    [0],\n",
        "    [100.1],\n",
        "    [900.9]\n",
        "    ])\n",
        "#  scaler\n",
        "## generacion de min max para establecer una escala mas adecuada\n",
        "minmax_scale = preprocessing.MinMaxScaler(feature_range=(0, 1))\n",
        "\n",
        "\n",
        "# se genera la transformacion\n",
        "scaled_feature = minmax_scale.fit_transform(feature)\n",
        "## con eso genera un rango de 0 a 1\n",
        "scaled_feature"
      ]
    },
    {
      "cell_type": "markdown",
      "source": [
        "Min - max es una forma de generar un rango\n",
        "en base a los valores maximos y minimos de un conjunto, con un valor arbitrario x y el minimo\n",
        "\n",
        "$x = \\dfrac{x - x_{min}}{x_{max} - x_{min}}$\n",
        "\n",
        "asi genenrado un rango de $[x_{max}, x_{min}]$\n"
      ],
      "metadata": {
        "id": "dwMdhzd-wMjV"
      }
    },
    {
      "cell_type": "markdown",
      "source": [
        "#Otra metrica de estandarizacion"
      ],
      "metadata": {
        "id": "6566Dwhex1rh"
      }
    },
    {
      "cell_type": "code",
      "source": [
        "import numpy as np\n",
        "from sklearn import preprocessing\n",
        "# Create feature\n",
        "x = np.array([[-1000.1],\n",
        "[-200.2],\n",
        "[500.5],\n",
        "[600.6],\n",
        "[9000.9]])\n",
        "\n",
        "# con standar scaler que es para la desviacion estandar\n",
        "scaler = preprocessing.StandardScaler()\n",
        "\n",
        "# transformacion\n",
        "scalerTransformado = scaler.fit_transform(x)\n",
        "scalerTransformado"
      ],
      "metadata": {
        "colab": {
          "base_uri": "https://localhost:8080/"
        },
        "id": "Y1JHDLhHvCa4",
        "outputId": "66068546-79ff-4b8b-cc28-87f09c80a7d5"
      },
      "execution_count": 6,
      "outputs": [
        {
          "output_type": "execute_result",
          "data": {
            "text/plain": [
              "array([[-0.76058269],\n",
              "       [-0.54177196],\n",
              "       [-0.35009716],\n",
              "       [-0.32271504],\n",
              "       [ 1.97516685]])"
            ]
          },
          "metadata": {},
          "execution_count": 6
        }
      ]
    },
    {
      "cell_type": "markdown",
      "source": [
        "Escalado de desviacion estandar, es una forma de generar un rango\n",
        "en base a los valores de promedio 0 y desviacion estandar 1.\n",
        "\n",
        "$x' = \\dfrac{x - ̅x}{σ}$"
      ],
      "metadata": {
        "id": "vx_xK8wsyZe1"
      }
    },
    {
      "cell_type": "code",
      "source": [
        "print(\"Promedio:\", round(scalerTransformado.mean()))\n",
        "print(\"Desviacion estandar:\", scalerTransformado.std())"
      ],
      "metadata": {
        "colab": {
          "base_uri": "https://localhost:8080/"
        },
        "id": "PSz9rHA4x85d",
        "outputId": "1a54e8fc-ec08-471a-c54c-19d25f659064"
      },
      "execution_count": 7,
      "outputs": [
        {
          "output_type": "stream",
          "name": "stdout",
          "text": [
            "Promedio: 0\n",
            "Desviacion estandar: 1.0\n"
          ]
        }
      ]
    },
    {
      "cell_type": "code",
      "source": [
        "robust_scaler = preprocessing.RobustScaler()\n",
        "robust_scalerTransformado =robust_scaler.fit_transform(x)"
      ],
      "metadata": {
        "id": "9sXFY1LTzSNU"
      },
      "execution_count": 11,
      "outputs": []
    },
    {
      "cell_type": "code",
      "source": [
        "print(\"Promedio:\", round(robust_scalerTransformado.mean()))\n",
        "print(\"Desviacion estandar:\", robust_scalerTransformado.std())"
      ],
      "metadata": {
        "colab": {
          "base_uri": "https://localhost:8080/"
        },
        "id": "oo43L3tkzjVN",
        "outputId": "27fabc78-df68-4980-9a84-01f926aa9411"
      },
      "execution_count": 12,
      "outputs": [
        {
          "output_type": "stream",
          "name": "stdout",
          "text": [
            "Promedio: 2\n",
            "Desviacion estandar: 4.565023609817704\n"
          ]
        }
      ]
    },
    {
      "cell_type": "markdown",
      "source": [
        "| **Scaler**         | **Centrado en** | **Escalado por**         | **Cuándo usarlo**                                                       |\n",
        "|--------------------|-----------------|---------------------------|-------------------------------------------------------------------------|\n",
        "| `StandardScaler`   | Media ($\\mu$)   | Desviación estándar ($\\sigma$) | Datos sin outliers significativos. Funciona bien si los datos son aproximadamente normales. |\n",
        "| `MinMaxScaler`     | Mínimo ($x_{min}$) | Rango ($x_{max} - x_{min}$) | Quieres transformar los datos a un rango específico, como [0, 1]. Sensible a outliers. |\n",
        "| `RobustScaler`     | Mediana         | Rango intercuartílico (IQR = Q3 - Q1) | Los datos tienen outliers y quieres minimizar su impacto en la escala. |\n"
      ],
      "metadata": {
        "id": "sQHK5-Xp0jnl"
      }
    },
    {
      "cell_type": "markdown",
      "source": [
        "# Normas\n"
      ],
      "metadata": {
        "id": "JT1c9tTn1cdg"
      }
    },
    {
      "cell_type": "code",
      "source": [
        "from sklearn.preprocessing import Normalizer\n",
        "features = np.array([[0.5, 0.5],\n",
        "[1.1, 3.4],\n",
        "[1.5, 20.2],\n",
        "[1.63, 34.4],\n",
        "[10.9, 3.3]])\n",
        "\n",
        "normalizador = Normalizer(norm=\"l2\")\n",
        "\n",
        "normalizadorConDatos = normalizador.transform(features)\n",
        "normalizadorConDatos"
      ],
      "metadata": {
        "colab": {
          "base_uri": "https://localhost:8080/"
        },
        "id": "XR_2uG9hzm2h",
        "outputId": "038a7793-b66e-47fc-8d5d-44d7fc4a5dce"
      },
      "execution_count": 13,
      "outputs": [
        {
          "output_type": "execute_result",
          "data": {
            "text/plain": [
              "array([[0.70710678, 0.70710678],\n",
              "       [0.30782029, 0.95144452],\n",
              "       [0.07405353, 0.99725427],\n",
              "       [0.04733062, 0.99887928],\n",
              "       [0.95709822, 0.28976368]])"
            ]
          },
          "metadata": {},
          "execution_count": 13
        }
      ]
    },
    {
      "cell_type": "code",
      "source": [
        "# norma 1\n",
        "features_l1_norm = Normalizer(norm=\"l1\").transform(features)\n",
        "features_l1_norm"
      ],
      "metadata": {
        "colab": {
          "base_uri": "https://localhost:8080/"
        },
        "id": "YcPNEbGf1xNi",
        "outputId": "db11ee09-3962-49cd-f196-883e1d6a3d6c"
      },
      "execution_count": 14,
      "outputs": [
        {
          "output_type": "execute_result",
          "data": {
            "text/plain": [
              "array([[0.5       , 0.5       ],\n",
              "       [0.24444444, 0.75555556],\n",
              "       [0.06912442, 0.93087558],\n",
              "       [0.04524008, 0.95475992],\n",
              "       [0.76760563, 0.23239437]])"
            ]
          },
          "metadata": {},
          "execution_count": 14
        }
      ]
    },
    {
      "cell_type": "code",
      "source": [
        "print(\"Suma\",\n",
        "features_l1_norm[3, 0] + features_l1_norm[3, 1])"
      ],
      "metadata": {
        "colab": {
          "base_uri": "https://localhost:8080/"
        },
        "id": "auK0l_It-KSX",
        "outputId": "9e182e36-eced-41d1-a118-cf6142d85213"
      },
      "execution_count": 19,
      "outputs": [
        {
          "output_type": "stream",
          "name": "stdout",
          "text": [
            "Suma 1.0\n"
          ]
        }
      ]
    },
    {
      "cell_type": "markdown",
      "source": [
        "# Generacion de polinomios\n"
      ],
      "metadata": {
        "id": "de90D0q5_Zfn"
      }
    },
    {
      "cell_type": "code",
      "source": [
        "from sklearn.preprocessing import PolynomialFeatures\n",
        "features = np.array([[2, 3],\n",
        "[2, 3],\n",
        "[2, 3]])\n",
        "\n",
        "polynomial_interaction = PolynomialFeatures(degree=2, include_bias=False)\n",
        "# transformacion\n",
        "polynomial_interaction.fit_transform(features)"
      ],
      "metadata": {
        "colab": {
          "base_uri": "https://localhost:8080/"
        },
        "id": "93LWhkaR-N0i",
        "outputId": "c8362df7-3445-4b56-e299-a8eda9422fc9"
      },
      "execution_count": 20,
      "outputs": [
        {
          "output_type": "execute_result",
          "data": {
            "text/plain": [
              "array([[2., 3., 4., 6., 9.],\n",
              "       [2., 3., 4., 6., 9.],\n",
              "       [2., 3., 4., 6., 9.]])"
            ]
          },
          "metadata": {},
          "execution_count": 20
        }
      ]
    },
    {
      "cell_type": "markdown",
      "source": [
        "# Generacion de caracteristicas"
      ],
      "metadata": {
        "id": "QrvLi1feA6Bh"
      }
    },
    {
      "cell_type": "code",
      "source": [
        "from sklearn.preprocessing import FunctionTransformer\n",
        "features = np.array([[2, 3],\n",
        "[2, -3],\n",
        "[-2, 2]])\n",
        "## como es una caracteristica puede llegar a ser alguna funcion\n",
        "def add_ten(x: int) -> int:\n",
        "  return x + 10\n",
        "\n",
        "def enteros(x: int) -> int:\n",
        "  if (x > 0):\n",
        "    return \"Positivo\"\n",
        "  else:\n",
        "    return \"Negativo\"\n",
        "\n",
        "## transformador\n",
        "ten_transformer = FunctionTransformer(add_ten)\n",
        "# aplicar esa funcion\n",
        "ten_transformer.transform(features)\n",
        "\n",
        "\n",
        "## generacion de la vectorizacion para cada valor evitando el array, esta sigue siendo una funcion\n",
        "vectorized_enteros = np.vectorize(enteros)\n",
        "ten_transformer = FunctionTransformer(vectorized_enteros)\n",
        "ten_transformer.transform(features)\n"
      ],
      "metadata": {
        "colab": {
          "base_uri": "https://localhost:8080/"
        },
        "id": "-rg2M8Z-A5sn",
        "outputId": "65054494-2a20-4d03-9255-83148c7ab8cf"
      },
      "execution_count": 25,
      "outputs": [
        {
          "output_type": "execute_result",
          "data": {
            "text/plain": [
              "array([['Positivo', 'Positivo'],\n",
              "       ['Positivo', 'Negativo'],\n",
              "       ['Negativo', 'Positivo']], dtype='<U8')"
            ]
          },
          "metadata": {},
          "execution_count": 25
        }
      ]
    },
    {
      "cell_type": "code",
      "source": [
        "import pandas as pd\n",
        "df = pd.DataFrame(features, columns=[\"feature_1\", \"feature_2\"])\n",
        "df.apply(add_ten)"
      ],
      "metadata": {
        "colab": {
          "base_uri": "https://localhost:8080/",
          "height": 143
        },
        "id": "gPDApiSU_nZ9",
        "outputId": "8e3adc6b-2bc7-4253-fc6d-7cad4dea36df"
      },
      "execution_count": 27,
      "outputs": [
        {
          "output_type": "execute_result",
          "data": {
            "text/plain": [
              "   feature_1  feature_2\n",
              "0         12         13\n",
              "1         12          7\n",
              "2          8         12"
            ],
            "text/html": [
              "\n",
              "  <div id=\"df-04cc73da-98ad-4c2e-b672-a2b3385321ae\" class=\"colab-df-container\">\n",
              "    <div>\n",
              "<style scoped>\n",
              "    .dataframe tbody tr th:only-of-type {\n",
              "        vertical-align: middle;\n",
              "    }\n",
              "\n",
              "    .dataframe tbody tr th {\n",
              "        vertical-align: top;\n",
              "    }\n",
              "\n",
              "    .dataframe thead th {\n",
              "        text-align: right;\n",
              "    }\n",
              "</style>\n",
              "<table border=\"1\" class=\"dataframe\">\n",
              "  <thead>\n",
              "    <tr style=\"text-align: right;\">\n",
              "      <th></th>\n",
              "      <th>feature_1</th>\n",
              "      <th>feature_2</th>\n",
              "    </tr>\n",
              "  </thead>\n",
              "  <tbody>\n",
              "    <tr>\n",
              "      <th>0</th>\n",
              "      <td>12</td>\n",
              "      <td>13</td>\n",
              "    </tr>\n",
              "    <tr>\n",
              "      <th>1</th>\n",
              "      <td>12</td>\n",
              "      <td>7</td>\n",
              "    </tr>\n",
              "    <tr>\n",
              "      <th>2</th>\n",
              "      <td>8</td>\n",
              "      <td>12</td>\n",
              "    </tr>\n",
              "  </tbody>\n",
              "</table>\n",
              "</div>\n",
              "    <div class=\"colab-df-buttons\">\n",
              "\n",
              "  <div class=\"colab-df-container\">\n",
              "    <button class=\"colab-df-convert\" onclick=\"convertToInteractive('df-04cc73da-98ad-4c2e-b672-a2b3385321ae')\"\n",
              "            title=\"Convert this dataframe to an interactive table.\"\n",
              "            style=\"display:none;\">\n",
              "\n",
              "  <svg xmlns=\"http://www.w3.org/2000/svg\" height=\"24px\" viewBox=\"0 -960 960 960\">\n",
              "    <path d=\"M120-120v-720h720v720H120Zm60-500h600v-160H180v160Zm220 220h160v-160H400v160Zm0 220h160v-160H400v160ZM180-400h160v-160H180v160Zm440 0h160v-160H620v160ZM180-180h160v-160H180v160Zm440 0h160v-160H620v160Z\"/>\n",
              "  </svg>\n",
              "    </button>\n",
              "\n",
              "  <style>\n",
              "    .colab-df-container {\n",
              "      display:flex;\n",
              "      gap: 12px;\n",
              "    }\n",
              "\n",
              "    .colab-df-convert {\n",
              "      background-color: #E8F0FE;\n",
              "      border: none;\n",
              "      border-radius: 50%;\n",
              "      cursor: pointer;\n",
              "      display: none;\n",
              "      fill: #1967D2;\n",
              "      height: 32px;\n",
              "      padding: 0 0 0 0;\n",
              "      width: 32px;\n",
              "    }\n",
              "\n",
              "    .colab-df-convert:hover {\n",
              "      background-color: #E2EBFA;\n",
              "      box-shadow: 0px 1px 2px rgba(60, 64, 67, 0.3), 0px 1px 3px 1px rgba(60, 64, 67, 0.15);\n",
              "      fill: #174EA6;\n",
              "    }\n",
              "\n",
              "    .colab-df-buttons div {\n",
              "      margin-bottom: 4px;\n",
              "    }\n",
              "\n",
              "    [theme=dark] .colab-df-convert {\n",
              "      background-color: #3B4455;\n",
              "      fill: #D2E3FC;\n",
              "    }\n",
              "\n",
              "    [theme=dark] .colab-df-convert:hover {\n",
              "      background-color: #434B5C;\n",
              "      box-shadow: 0px 1px 3px 1px rgba(0, 0, 0, 0.15);\n",
              "      filter: drop-shadow(0px 1px 2px rgba(0, 0, 0, 0.3));\n",
              "      fill: #FFFFFF;\n",
              "    }\n",
              "  </style>\n",
              "\n",
              "    <script>\n",
              "      const buttonEl =\n",
              "        document.querySelector('#df-04cc73da-98ad-4c2e-b672-a2b3385321ae button.colab-df-convert');\n",
              "      buttonEl.style.display =\n",
              "        google.colab.kernel.accessAllowed ? 'block' : 'none';\n",
              "\n",
              "      async function convertToInteractive(key) {\n",
              "        const element = document.querySelector('#df-04cc73da-98ad-4c2e-b672-a2b3385321ae');\n",
              "        const dataTable =\n",
              "          await google.colab.kernel.invokeFunction('convertToInteractive',\n",
              "                                                    [key], {});\n",
              "        if (!dataTable) return;\n",
              "\n",
              "        const docLinkHtml = 'Like what you see? Visit the ' +\n",
              "          '<a target=\"_blank\" href=https://colab.research.google.com/notebooks/data_table.ipynb>data table notebook</a>'\n",
              "          + ' to learn more about interactive tables.';\n",
              "        element.innerHTML = '';\n",
              "        dataTable['output_type'] = 'display_data';\n",
              "        await google.colab.output.renderOutput(dataTable, element);\n",
              "        const docLink = document.createElement('div');\n",
              "        docLink.innerHTML = docLinkHtml;\n",
              "        element.appendChild(docLink);\n",
              "      }\n",
              "    </script>\n",
              "  </div>\n",
              "\n",
              "\n",
              "<div id=\"df-713e64c7-658d-4ce7-b65e-1559959522a6\">\n",
              "  <button class=\"colab-df-quickchart\" onclick=\"quickchart('df-713e64c7-658d-4ce7-b65e-1559959522a6')\"\n",
              "            title=\"Suggest charts\"\n",
              "            style=\"display:none;\">\n",
              "\n",
              "<svg xmlns=\"http://www.w3.org/2000/svg\" height=\"24px\"viewBox=\"0 0 24 24\"\n",
              "     width=\"24px\">\n",
              "    <g>\n",
              "        <path d=\"M19 3H5c-1.1 0-2 .9-2 2v14c0 1.1.9 2 2 2h14c1.1 0 2-.9 2-2V5c0-1.1-.9-2-2-2zM9 17H7v-7h2v7zm4 0h-2V7h2v10zm4 0h-2v-4h2v4z\"/>\n",
              "    </g>\n",
              "</svg>\n",
              "  </button>\n",
              "\n",
              "<style>\n",
              "  .colab-df-quickchart {\n",
              "      --bg-color: #E8F0FE;\n",
              "      --fill-color: #1967D2;\n",
              "      --hover-bg-color: #E2EBFA;\n",
              "      --hover-fill-color: #174EA6;\n",
              "      --disabled-fill-color: #AAA;\n",
              "      --disabled-bg-color: #DDD;\n",
              "  }\n",
              "\n",
              "  [theme=dark] .colab-df-quickchart {\n",
              "      --bg-color: #3B4455;\n",
              "      --fill-color: #D2E3FC;\n",
              "      --hover-bg-color: #434B5C;\n",
              "      --hover-fill-color: #FFFFFF;\n",
              "      --disabled-bg-color: #3B4455;\n",
              "      --disabled-fill-color: #666;\n",
              "  }\n",
              "\n",
              "  .colab-df-quickchart {\n",
              "    background-color: var(--bg-color);\n",
              "    border: none;\n",
              "    border-radius: 50%;\n",
              "    cursor: pointer;\n",
              "    display: none;\n",
              "    fill: var(--fill-color);\n",
              "    height: 32px;\n",
              "    padding: 0;\n",
              "    width: 32px;\n",
              "  }\n",
              "\n",
              "  .colab-df-quickchart:hover {\n",
              "    background-color: var(--hover-bg-color);\n",
              "    box-shadow: 0 1px 2px rgba(60, 64, 67, 0.3), 0 1px 3px 1px rgba(60, 64, 67, 0.15);\n",
              "    fill: var(--button-hover-fill-color);\n",
              "  }\n",
              "\n",
              "  .colab-df-quickchart-complete:disabled,\n",
              "  .colab-df-quickchart-complete:disabled:hover {\n",
              "    background-color: var(--disabled-bg-color);\n",
              "    fill: var(--disabled-fill-color);\n",
              "    box-shadow: none;\n",
              "  }\n",
              "\n",
              "  .colab-df-spinner {\n",
              "    border: 2px solid var(--fill-color);\n",
              "    border-color: transparent;\n",
              "    border-bottom-color: var(--fill-color);\n",
              "    animation:\n",
              "      spin 1s steps(1) infinite;\n",
              "  }\n",
              "\n",
              "  @keyframes spin {\n",
              "    0% {\n",
              "      border-color: transparent;\n",
              "      border-bottom-color: var(--fill-color);\n",
              "      border-left-color: var(--fill-color);\n",
              "    }\n",
              "    20% {\n",
              "      border-color: transparent;\n",
              "      border-left-color: var(--fill-color);\n",
              "      border-top-color: var(--fill-color);\n",
              "    }\n",
              "    30% {\n",
              "      border-color: transparent;\n",
              "      border-left-color: var(--fill-color);\n",
              "      border-top-color: var(--fill-color);\n",
              "      border-right-color: var(--fill-color);\n",
              "    }\n",
              "    40% {\n",
              "      border-color: transparent;\n",
              "      border-right-color: var(--fill-color);\n",
              "      border-top-color: var(--fill-color);\n",
              "    }\n",
              "    60% {\n",
              "      border-color: transparent;\n",
              "      border-right-color: var(--fill-color);\n",
              "    }\n",
              "    80% {\n",
              "      border-color: transparent;\n",
              "      border-right-color: var(--fill-color);\n",
              "      border-bottom-color: var(--fill-color);\n",
              "    }\n",
              "    90% {\n",
              "      border-color: transparent;\n",
              "      border-bottom-color: var(--fill-color);\n",
              "    }\n",
              "  }\n",
              "</style>\n",
              "\n",
              "  <script>\n",
              "    async function quickchart(key) {\n",
              "      const quickchartButtonEl =\n",
              "        document.querySelector('#' + key + ' button');\n",
              "      quickchartButtonEl.disabled = true;  // To prevent multiple clicks.\n",
              "      quickchartButtonEl.classList.add('colab-df-spinner');\n",
              "      try {\n",
              "        const charts = await google.colab.kernel.invokeFunction(\n",
              "            'suggestCharts', [key], {});\n",
              "      } catch (error) {\n",
              "        console.error('Error during call to suggestCharts:', error);\n",
              "      }\n",
              "      quickchartButtonEl.classList.remove('colab-df-spinner');\n",
              "      quickchartButtonEl.classList.add('colab-df-quickchart-complete');\n",
              "    }\n",
              "    (() => {\n",
              "      let quickchartButtonEl =\n",
              "        document.querySelector('#df-713e64c7-658d-4ce7-b65e-1559959522a6 button');\n",
              "      quickchartButtonEl.style.display =\n",
              "        google.colab.kernel.accessAllowed ? 'block' : 'none';\n",
              "    })();\n",
              "  </script>\n",
              "</div>\n",
              "\n",
              "    </div>\n",
              "  </div>\n"
            ],
            "application/vnd.google.colaboratory.intrinsic+json": {
              "type": "dataframe",
              "summary": "{\n  \"name\": \"df\",\n  \"rows\": 3,\n  \"fields\": [\n    {\n      \"column\": \"feature_1\",\n      \"properties\": {\n        \"dtype\": \"number\",\n        \"std\": 2,\n        \"min\": 8,\n        \"max\": 12,\n        \"num_unique_values\": 2,\n        \"samples\": [\n          8,\n          12\n        ],\n        \"semantic_type\": \"\",\n        \"description\": \"\"\n      }\n    },\n    {\n      \"column\": \"feature_2\",\n      \"properties\": {\n        \"dtype\": \"number\",\n        \"std\": 3,\n        \"min\": 7,\n        \"max\": 13,\n        \"num_unique_values\": 3,\n        \"samples\": [\n          13,\n          7\n        ],\n        \"semantic_type\": \"\",\n        \"description\": \"\"\n      }\n    }\n  ]\n}"
            }
          },
          "metadata": {},
          "execution_count": 27
        }
      ]
    },
    {
      "cell_type": "code",
      "source": [
        "import pandas as pd\n",
        "df = pd.DataFrame(features, columns=[\"feature_1\", \"feature_2\"])\n",
        "df.apply(vectorized_enteros)"
      ],
      "metadata": {
        "colab": {
          "base_uri": "https://localhost:8080/",
          "height": 143
        },
        "id": "KUocOpo-Ccwk",
        "outputId": "1e57db1f-dacd-4420-c91c-dd27a1307d83"
      },
      "execution_count": 28,
      "outputs": [
        {
          "output_type": "execute_result",
          "data": {
            "text/plain": [
              "  feature_1 feature_2\n",
              "0  Positivo  Positivo\n",
              "1  Positivo  Negativo\n",
              "2  Negativo  Positivo"
            ],
            "text/html": [
              "\n",
              "  <div id=\"df-28fd280d-9c41-4f12-93e4-cbb6da5d7844\" class=\"colab-df-container\">\n",
              "    <div>\n",
              "<style scoped>\n",
              "    .dataframe tbody tr th:only-of-type {\n",
              "        vertical-align: middle;\n",
              "    }\n",
              "\n",
              "    .dataframe tbody tr th {\n",
              "        vertical-align: top;\n",
              "    }\n",
              "\n",
              "    .dataframe thead th {\n",
              "        text-align: right;\n",
              "    }\n",
              "</style>\n",
              "<table border=\"1\" class=\"dataframe\">\n",
              "  <thead>\n",
              "    <tr style=\"text-align: right;\">\n",
              "      <th></th>\n",
              "      <th>feature_1</th>\n",
              "      <th>feature_2</th>\n",
              "    </tr>\n",
              "  </thead>\n",
              "  <tbody>\n",
              "    <tr>\n",
              "      <th>0</th>\n",
              "      <td>Positivo</td>\n",
              "      <td>Positivo</td>\n",
              "    </tr>\n",
              "    <tr>\n",
              "      <th>1</th>\n",
              "      <td>Positivo</td>\n",
              "      <td>Negativo</td>\n",
              "    </tr>\n",
              "    <tr>\n",
              "      <th>2</th>\n",
              "      <td>Negativo</td>\n",
              "      <td>Positivo</td>\n",
              "    </tr>\n",
              "  </tbody>\n",
              "</table>\n",
              "</div>\n",
              "    <div class=\"colab-df-buttons\">\n",
              "\n",
              "  <div class=\"colab-df-container\">\n",
              "    <button class=\"colab-df-convert\" onclick=\"convertToInteractive('df-28fd280d-9c41-4f12-93e4-cbb6da5d7844')\"\n",
              "            title=\"Convert this dataframe to an interactive table.\"\n",
              "            style=\"display:none;\">\n",
              "\n",
              "  <svg xmlns=\"http://www.w3.org/2000/svg\" height=\"24px\" viewBox=\"0 -960 960 960\">\n",
              "    <path d=\"M120-120v-720h720v720H120Zm60-500h600v-160H180v160Zm220 220h160v-160H400v160Zm0 220h160v-160H400v160ZM180-400h160v-160H180v160Zm440 0h160v-160H620v160ZM180-180h160v-160H180v160Zm440 0h160v-160H620v160Z\"/>\n",
              "  </svg>\n",
              "    </button>\n",
              "\n",
              "  <style>\n",
              "    .colab-df-container {\n",
              "      display:flex;\n",
              "      gap: 12px;\n",
              "    }\n",
              "\n",
              "    .colab-df-convert {\n",
              "      background-color: #E8F0FE;\n",
              "      border: none;\n",
              "      border-radius: 50%;\n",
              "      cursor: pointer;\n",
              "      display: none;\n",
              "      fill: #1967D2;\n",
              "      height: 32px;\n",
              "      padding: 0 0 0 0;\n",
              "      width: 32px;\n",
              "    }\n",
              "\n",
              "    .colab-df-convert:hover {\n",
              "      background-color: #E2EBFA;\n",
              "      box-shadow: 0px 1px 2px rgba(60, 64, 67, 0.3), 0px 1px 3px 1px rgba(60, 64, 67, 0.15);\n",
              "      fill: #174EA6;\n",
              "    }\n",
              "\n",
              "    .colab-df-buttons div {\n",
              "      margin-bottom: 4px;\n",
              "    }\n",
              "\n",
              "    [theme=dark] .colab-df-convert {\n",
              "      background-color: #3B4455;\n",
              "      fill: #D2E3FC;\n",
              "    }\n",
              "\n",
              "    [theme=dark] .colab-df-convert:hover {\n",
              "      background-color: #434B5C;\n",
              "      box-shadow: 0px 1px 3px 1px rgba(0, 0, 0, 0.15);\n",
              "      filter: drop-shadow(0px 1px 2px rgba(0, 0, 0, 0.3));\n",
              "      fill: #FFFFFF;\n",
              "    }\n",
              "  </style>\n",
              "\n",
              "    <script>\n",
              "      const buttonEl =\n",
              "        document.querySelector('#df-28fd280d-9c41-4f12-93e4-cbb6da5d7844 button.colab-df-convert');\n",
              "      buttonEl.style.display =\n",
              "        google.colab.kernel.accessAllowed ? 'block' : 'none';\n",
              "\n",
              "      async function convertToInteractive(key) {\n",
              "        const element = document.querySelector('#df-28fd280d-9c41-4f12-93e4-cbb6da5d7844');\n",
              "        const dataTable =\n",
              "          await google.colab.kernel.invokeFunction('convertToInteractive',\n",
              "                                                    [key], {});\n",
              "        if (!dataTable) return;\n",
              "\n",
              "        const docLinkHtml = 'Like what you see? Visit the ' +\n",
              "          '<a target=\"_blank\" href=https://colab.research.google.com/notebooks/data_table.ipynb>data table notebook</a>'\n",
              "          + ' to learn more about interactive tables.';\n",
              "        element.innerHTML = '';\n",
              "        dataTable['output_type'] = 'display_data';\n",
              "        await google.colab.output.renderOutput(dataTable, element);\n",
              "        const docLink = document.createElement('div');\n",
              "        docLink.innerHTML = docLinkHtml;\n",
              "        element.appendChild(docLink);\n",
              "      }\n",
              "    </script>\n",
              "  </div>\n",
              "\n",
              "\n",
              "<div id=\"df-f3907c02-1ec3-42b2-ba2b-cb9eade27138\">\n",
              "  <button class=\"colab-df-quickchart\" onclick=\"quickchart('df-f3907c02-1ec3-42b2-ba2b-cb9eade27138')\"\n",
              "            title=\"Suggest charts\"\n",
              "            style=\"display:none;\">\n",
              "\n",
              "<svg xmlns=\"http://www.w3.org/2000/svg\" height=\"24px\"viewBox=\"0 0 24 24\"\n",
              "     width=\"24px\">\n",
              "    <g>\n",
              "        <path d=\"M19 3H5c-1.1 0-2 .9-2 2v14c0 1.1.9 2 2 2h14c1.1 0 2-.9 2-2V5c0-1.1-.9-2-2-2zM9 17H7v-7h2v7zm4 0h-2V7h2v10zm4 0h-2v-4h2v4z\"/>\n",
              "    </g>\n",
              "</svg>\n",
              "  </button>\n",
              "\n",
              "<style>\n",
              "  .colab-df-quickchart {\n",
              "      --bg-color: #E8F0FE;\n",
              "      --fill-color: #1967D2;\n",
              "      --hover-bg-color: #E2EBFA;\n",
              "      --hover-fill-color: #174EA6;\n",
              "      --disabled-fill-color: #AAA;\n",
              "      --disabled-bg-color: #DDD;\n",
              "  }\n",
              "\n",
              "  [theme=dark] .colab-df-quickchart {\n",
              "      --bg-color: #3B4455;\n",
              "      --fill-color: #D2E3FC;\n",
              "      --hover-bg-color: #434B5C;\n",
              "      --hover-fill-color: #FFFFFF;\n",
              "      --disabled-bg-color: #3B4455;\n",
              "      --disabled-fill-color: #666;\n",
              "  }\n",
              "\n",
              "  .colab-df-quickchart {\n",
              "    background-color: var(--bg-color);\n",
              "    border: none;\n",
              "    border-radius: 50%;\n",
              "    cursor: pointer;\n",
              "    display: none;\n",
              "    fill: var(--fill-color);\n",
              "    height: 32px;\n",
              "    padding: 0;\n",
              "    width: 32px;\n",
              "  }\n",
              "\n",
              "  .colab-df-quickchart:hover {\n",
              "    background-color: var(--hover-bg-color);\n",
              "    box-shadow: 0 1px 2px rgba(60, 64, 67, 0.3), 0 1px 3px 1px rgba(60, 64, 67, 0.15);\n",
              "    fill: var(--button-hover-fill-color);\n",
              "  }\n",
              "\n",
              "  .colab-df-quickchart-complete:disabled,\n",
              "  .colab-df-quickchart-complete:disabled:hover {\n",
              "    background-color: var(--disabled-bg-color);\n",
              "    fill: var(--disabled-fill-color);\n",
              "    box-shadow: none;\n",
              "  }\n",
              "\n",
              "  .colab-df-spinner {\n",
              "    border: 2px solid var(--fill-color);\n",
              "    border-color: transparent;\n",
              "    border-bottom-color: var(--fill-color);\n",
              "    animation:\n",
              "      spin 1s steps(1) infinite;\n",
              "  }\n",
              "\n",
              "  @keyframes spin {\n",
              "    0% {\n",
              "      border-color: transparent;\n",
              "      border-bottom-color: var(--fill-color);\n",
              "      border-left-color: var(--fill-color);\n",
              "    }\n",
              "    20% {\n",
              "      border-color: transparent;\n",
              "      border-left-color: var(--fill-color);\n",
              "      border-top-color: var(--fill-color);\n",
              "    }\n",
              "    30% {\n",
              "      border-color: transparent;\n",
              "      border-left-color: var(--fill-color);\n",
              "      border-top-color: var(--fill-color);\n",
              "      border-right-color: var(--fill-color);\n",
              "    }\n",
              "    40% {\n",
              "      border-color: transparent;\n",
              "      border-right-color: var(--fill-color);\n",
              "      border-top-color: var(--fill-color);\n",
              "    }\n",
              "    60% {\n",
              "      border-color: transparent;\n",
              "      border-right-color: var(--fill-color);\n",
              "    }\n",
              "    80% {\n",
              "      border-color: transparent;\n",
              "      border-right-color: var(--fill-color);\n",
              "      border-bottom-color: var(--fill-color);\n",
              "    }\n",
              "    90% {\n",
              "      border-color: transparent;\n",
              "      border-bottom-color: var(--fill-color);\n",
              "    }\n",
              "  }\n",
              "</style>\n",
              "\n",
              "  <script>\n",
              "    async function quickchart(key) {\n",
              "      const quickchartButtonEl =\n",
              "        document.querySelector('#' + key + ' button');\n",
              "      quickchartButtonEl.disabled = true;  // To prevent multiple clicks.\n",
              "      quickchartButtonEl.classList.add('colab-df-spinner');\n",
              "      try {\n",
              "        const charts = await google.colab.kernel.invokeFunction(\n",
              "            'suggestCharts', [key], {});\n",
              "      } catch (error) {\n",
              "        console.error('Error during call to suggestCharts:', error);\n",
              "      }\n",
              "      quickchartButtonEl.classList.remove('colab-df-spinner');\n",
              "      quickchartButtonEl.classList.add('colab-df-quickchart-complete');\n",
              "    }\n",
              "    (() => {\n",
              "      let quickchartButtonEl =\n",
              "        document.querySelector('#df-f3907c02-1ec3-42b2-ba2b-cb9eade27138 button');\n",
              "      quickchartButtonEl.style.display =\n",
              "        google.colab.kernel.accessAllowed ? 'block' : 'none';\n",
              "    })();\n",
              "  </script>\n",
              "</div>\n",
              "\n",
              "    </div>\n",
              "  </div>\n"
            ],
            "application/vnd.google.colaboratory.intrinsic+json": {
              "type": "dataframe",
              "summary": "{\n  \"name\": \"df\",\n  \"rows\": 3,\n  \"fields\": [\n    {\n      \"column\": \"feature_1\",\n      \"properties\": {\n        \"dtype\": \"string\",\n        \"num_unique_values\": 2,\n        \"samples\": [\n          \"Negativo\",\n          \"Positivo\"\n        ],\n        \"semantic_type\": \"\",\n        \"description\": \"\"\n      }\n    },\n    {\n      \"column\": \"feature_2\",\n      \"properties\": {\n        \"dtype\": \"string\",\n        \"num_unique_values\": 2,\n        \"samples\": [\n          \"Negativo\",\n          \"Positivo\"\n        ],\n        \"semantic_type\": \"\",\n        \"description\": \"\"\n      }\n    }\n  ]\n}"
            }
          },
          "metadata": {},
          "execution_count": 28
        }
      ]
    },
    {
      "cell_type": "markdown",
      "source": [
        "#Deteccion de valores atipicos\n",
        "Estos son valores los cuales llegan a variarian demasiado y entorpece el analisis\n",
        "![image.png](data:image/png;base64,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)"
      ],
      "metadata": {
        "id": "GCrmWxICC6SZ"
      }
    },
    {
      "cell_type": "code",
      "source": [
        "from sklearn.covariance import EllipticEnvelope\n",
        "from sklearn.datasets import make_blobs\n",
        "# Create simulated data\n",
        "features, _ = make_blobs(n_samples = 10,\n",
        "n_features = 2,\n",
        "centers = 1,\n",
        "random_state = 1)"
      ],
      "metadata": {
        "id": "GD2s8FtQCez1"
      },
      "execution_count": 29,
      "outputs": []
    },
    {
      "cell_type": "code",
      "source": [
        "features[0,0] = 10000\n",
        "features[0,1] = 10000"
      ],
      "metadata": {
        "id": "BmBj815eDfzm"
      },
      "execution_count": 30,
      "outputs": []
    },
    {
      "cell_type": "code",
      "source": [
        "## genrea la elipse de datos dispersos\n",
        "outlier_detector = EllipticEnvelope(contamination=.1)\n",
        "# entrena\n",
        "outlier_detector.fit(features)\n",
        "#predice\n",
        "outlier_detector.predict(features)"
      ],
      "metadata": {
        "colab": {
          "base_uri": "https://localhost:8080/"
        },
        "id": "zbsl3MFMDlEd",
        "outputId": "50b3c7ab-7eb5-4bea-fde0-29adc534ef29"
      },
      "execution_count": 31,
      "outputs": [
        {
          "output_type": "execute_result",
          "data": {
            "text/plain": [
              "array([-1,  1,  1,  1,  1,  1,  1,  1,  1,  1])"
            ]
          },
          "metadata": {},
          "execution_count": 31
        }
      ]
    },
    {
      "cell_type": "code",
      "source": [],
      "metadata": {
        "id": "pbIBlsYBDr6b"
      },
      "execution_count": null,
      "outputs": []
    }
  ]
}